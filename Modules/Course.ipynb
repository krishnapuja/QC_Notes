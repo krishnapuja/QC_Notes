{
 "cells": [
  {
   "cell_type": "markdown",
   "fracProfit": 2,
   "id": "e4b11b13",
   "metadata": {
    "cell_details": {
     "cell_ID": "m1-background",
     "cell_alternates": [],
     "cell_concepts": [
      "Complex Numbers"
     ],
     "cell_estimated_time": "2",
     "cell_interactive": "false",
     "cell_outcomes": [
      "Understand the foundational role of complex numbers in quantum computing and cryptography",
      "Identify and differentiate between various number systems, leading up to and including real numbers",
      "Recognize the emergence and necessity of complex numbers in extending the real number system"
     ],
     "cell_prereqs": [],
     "cell_title": "Real Numbers",
     "cell_type": [
      "text"
     ],
     "module_outcomes": [
      "Master the concept of complex number representations",
      "Perform basic additive and multiplicative operations on complex numbers",
      "Implement Python programs for addition and multiplication on complex numbers"
     ],
     "module_prereqs": [
      "Algebra",
      "Introduction to Programming",
      "Python Basics"
     ],
     "module_title": [
      "The Basics of Complex Numbers"
     ]
    },
    "editable": true,
    "slideshow": {
     "slide_type": "slide"
    },
    "tags": []
   },
   "profit": 1,
   "source": [
    "## 1.2 Background\n",
    "\n",
    "In order to start understanding the theory behind quantum computing and cryptography, one needs to first understand what complex numbers are. It often comes as a surprise to many that complex numbers are deeply ingrained in quantum theory and nature for that matter!\n",
    "\n",
    "We usually work with the following number systems:\n",
    "<ul>\n",
    "     <li> Positive numbers, $\\mathbb{P} = {1, 2, 3, \\ldots}$ </li>\n",
    "     <li> Natural numbers, $\\mathbb{N} = {0, 1, 2, 3, \\ldots}$ </li>\n",
    "     <li> Integers, $\\mathbb{Z} = {\\ldots, -3, -2, -1, 0, 1, 2, 3, \\ldots}$ </li>\n",
    "     <li> Rational numbers, $\\mathbb{Q} = {\\frac{m}{n}|m\\in\\mathbb{Z}, n\\in\\mathbb{P}}$ </li>\n",
    "     <li> Real numbers, $\\mathbb{R} = \\mathbb{Q}\\cup{\\ldots,\\sqrt{2},\\ldots,e,\\ldots,\\pi,\\ldots,\\frac{e}{\\pi},\\ldots}$ </li>\n",
    "</ul>\n",
    "\n",
    "The last of these, set of real numbers, encompasses all the other types of number systems. So where do complex numbers come from and how do they fit in with the above commonly used number systems?"
   ]
  },
  {
   "cell_type": "markdown",
   "fracProfit": 5,
   "id": "52ff58a5",
   "metadata": {
    "cell_details": {
     "cell_ID": "m1-imaginaryNumbers",
     "cell_alternates": [],
     "cell_concepts": [
      "Complex Numbers"
     ],
     "cell_estimated_time": "3",
     "cell_interactive": "false",
     "cell_outcomes": [
      "Understand the motivation behind the introduction of complex numbers",
      "Learn the definition and properties of the imaginary unit i",
      "Perform arithmetic operations with imaginary numbers and recognize patterns in powers of i"
     ],
     "cell_prereqs": [
      "m1-background"
     ],
     "cell_title": "Imaginary Numbers",
     "cell_type": [
      "text"
     ],
     "module_outcomes": [
      "Master the concept of complex number representations",
      "Perform basic additive and multiplicative operations on complex numbers",
      "Implement Python programs for addition and multiplication on complex numbers"
     ],
     "module_prereqs": [
      "Algebra",
      "Introduction to Programming",
      "Python Basics"
     ],
     "module_title": [
      "The Basics of Complex Numbers"
     ]
    },
    "editable": true,
    "slideshow": {
     "slide_type": "slide"
    },
    "tags": []
   },
   "profit": 1,
   "source": [
    "## 1.3 Imaginary Numbers\n",
    "\n",
    "The birth of complex numbers is motivated by the desire to find solutions for polynomial equations. It is easy to see that some polynomials such as $x^2=-1$ do not have any solutions in real numbers. Mathematicians therefore had to take a leap of faith and assume that a solution to such equations does exist. In other words, there is a number that when squared will result in -1.\n",
    "\n",
    "They denoted this number by $i$, such that $i=\\sqrt{-1}$. Indeed, $i^2=-1$. Therefore, the solution to the above equation is $x=i$.\n",
    "\n",
    "This new number, $i$, clearly does not exist within the set of real numbers and is aptly called an *imaginary number*.\n",
    "\n",
    "We can use $i$ to do arithmetic operations. Therefore, $i^2=-1$, $i^3 = i\\times i\\times i = i^2\\times i=-1\\times i=-i$, $i^4=(i^2)^2=1$ and so on. Very soon a pattern emerges that can be used to compute higher powers of $i$."
   ]
  },
  {
   "cell_type": "code",
   "execution_count": 1,
   "fracProfit": 15,
   "id": "734bc339",
   "metadata": {
    "cell_details": {
     "cell_ID": "m1-quiz-1.1-interactive",
     "cell_alternates": [
      "m1-quiz-1.1"
     ],
     "cell_concepts": [
      "Complex Numbers"
     ],
     "cell_estimated_time": "10",
     "cell_interactive": "true",
     "cell_outcomes": [
      "Solve quadratic equations involving imaginary numbers",
      "Simplify expressions involving powers of the imaginary unit i"
     ],
     "cell_prereqs": [
      "m1-imaginaryNumbers"
     ],
     "cell_title": "Self Assessment Quiz 1 interactive",
     "cell_type": [
      "text"
     ],
     "module_outcomes": [
      "Master the concept of complex number representations",
      "Perform basic additive and multiplicative operations on complex numbers",
      "Implement Python programs for addition and multiplication on complex numbers"
     ],
     "module_prereqs": [
      "Algebra",
      "Introduction to Programming",
      "Python Basics"
     ],
     "module_title": [
      "The Basics of Complex Numbers"
     ]
    },
    "editable": true,
    "slideshow": {
     "slide_type": "slide"
    },
    "tags": []
   },
   "outputs": [
    {
     "data": {
      "application/vnd.jupyter.widget-view+json": {
       "model_id": "af94f1bc6a9e455baf0053b75db2c1ac",
       "version_major": 2,
       "version_minor": 0
      },
      "text/plain": [
       "VBox(children=(HTML(value='<b><font size=\"+2\">Quiz 1.1 Self Assessment Quiz'), HTML(value='<b><font size=\"-1\"<…"
      ]
     },
     "execution_count": 1,
     "metadata": {},
     "output_type": "execute_result"
    }
   ],
   "profit": 1,
   "source": [
    "%run pyfiles/saquiz1_1  #This runs the file that has the quiz code\n",
    "SAQuiz1_1\n"
   ]
  },
  {
   "cell_type": "markdown",
   "fracProfit": 10,
   "id": "cc6fc65f",
   "metadata": {
    "cell_details": {
     "cell_ID": "m1-quiz-1.1",
     "cell_alternates": [
      "m1-quiz-1.1-interactive"
     ],
     "cell_concepts": [
      "Complex Numbers"
     ],
     "cell_estimated_time": "5",
     "cell_interactive": "false",
     "cell_outcomes": [
      "Solve quadratic equations involving imaginary numbers",
      "Simplify expressions involving powers of the imaginary unit i"
     ],
     "cell_prereqs": [
      "m1-imaginaryNumbers"
     ],
     "cell_title": "Self Assessment Quiz 1",
     "cell_type": [
      "text"
     ],
     "module_outcomes": [
      "Master the concept of complex number representations",
      "Perform basic additive and multiplicative operations on complex numbers",
      "Implement Python programs for addition and multiplication on complex numbers"
     ],
     "module_prereqs": [
      "Algebra",
      "Introduction to Programming",
      "Python Basics"
     ],
     "module_title": [
      "The Basics of Complex Numbers"
     ]
    },
    "editable": true,
    "slideshow": {
     "slide_type": "slide"
    },
    "tags": []
   },
   "profit": 1,
   "source": [
    "## Quiz 1.1 Self Assessment Quiz \n",
    "<b>Maybe used for in-class hands-on practice.</b>\n",
    "\n",
    "<b><i>Run the code in the next cell to generate a interactive version of this quiz.</i></b>\n",
    "\n",
    "1. Solve for $x$ where $x^2+25=0$. Choose the right answer:\n",
    "\n",
    "    a. x=5i\n",
    "\n",
    "    b. x=-5i\n",
    "\n",
    "    c. x=i\n",
    "\n",
    "    d. x=5\n",
    "<br><br>\n",
    "2. Simplify $i^{225}$. (Hint: find a pattern)"
   ]
  },
  {
   "cell_type": "markdown",
   "fracProfit": 32,
   "id": "ab9861b8",
   "metadata": {
    "cell_details": {
     "cell_ID": "m1-complexNumbers",
     "cell_alternates": [],
     "cell_concepts": [
      "Complex Numbers"
     ],
     "cell_estimated_time": "2",
     "cell_interactive": "false",
     "cell_outcomes": [
      "Define complex numbers and understand their composition",
      "Identify the real and imaginary parts of a complex number",
      "Recognize complex numbers as a broader set of numbers encompassing real and imaginary numbers"
     ],
     "cell_prereqs": [
      "m1-imaginaryNumbers",
      "m1-quiz-1.1",
      "m1-quiz-1.1-interactive"
     ],
     "cell_title": "Complex Numbers",
     "cell_type": [
      "text"
     ],
     "module_outcomes": [
      "Master the concept of complex number representations",
      "Perform basic additive and multiplicative operations on complex numbers",
      "Implement Python programs for addition and multiplication on complex numbers"
     ],
     "module_prereqs": [
      "Algebra",
      "Introduction to Programming",
      "Python Basics"
     ],
     "module_title": [
      "The Basics of Complex Numbers"
     ]
    },
    "editable": true,
    "jp-MarkdownHeadingCollapsed": true,
    "slideshow": {
     "slide_type": "slide"
    },
    "tags": []
   },
   "profit": 1,
   "source": [
    "## 1.4 Complex Numbers\n",
    "\n",
    "Now that we know what real numbers look like and what imaginary numbers look like, we can define a complex number as follows,\n",
    "\n",
    "*A <b>complex number</b> is a combination of real and imaginary numbers. Therefore, an expression $c=a+b\\times i = a+bi$, where $a$ and $b$ are real numbers is said to be a complex number. Here $bi=b\\times i$ is understood.*\n",
    "\n",
    "Note that when $a=0$, we only have $c=bi$ and is a valid complex number. Often $a$ is called the real part of $c$ and $b$ is called the imaginary part of $c$. The set of all complex numbers is denoted by $\\mathbb{C}$."
   ]
  },
  {
   "cell_type": "markdown",
   "fracProfit": 35,
   "id": "2057954e",
   "metadata": {
    "cell_details": {
     "cell_ID": "m2-modulusConjugation",
     "cell_alternates": [],
     "cell_concepts": [
      "Modulus and Conjugation"
     ],
     "cell_estimated_time": "3",
     "cell_interactive": "false",
     "cell_outcomes": [
      "Understand the concept of modulus of a complex number",
      "Compute the modulus of complex numbers",
      "Understand the concept of conjugate of a complex number",
      "Compute the conjugate of complex numbers"
     ],
     "cell_prereqs": [
      "m1-complexNumbers"
     ],
     "cell_title": "Modulus and Conjugation",
     "cell_type": [
      "text"
     ],
     "module_outcomes": [
      "Master the concept of complex number representations",
      "Understand and apply basic properties of complex numbers",
      "Perform operations like addition, multiplication, division on complex numbers",
      "Compute modulus and conjugate of complex numbers",
      "Implement Python programs for complex number operations including addition, multiplication, division, computing modulus, and conjugate"
     ],
     "module_prereqs": [
      "Algebra",
      "Introduction to Programming",
      "Python Basics"
     ],
     "module_title": [
      "Properties of Complex Numbers"
     ]
    },
    "editable": true,
    "slideshow": {
     "slide_type": "slide"
    },
    "tags": []
   },
   "profit": 1,
   "source": [
    "## 2.4 Modulus and Conjugation\n",
    "\n",
    "### Modulus\n",
    "\n",
    "The <b>modulus</b> of a complex number is given by $\\rvert c\\rvert=\\rvert a+bi\\rvert=+\\sqrt{a^2+b^2}$. Note that we are only concerned with the positive square roots.\n",
    "\n",
    "<b>Example: </b>Modulus of $c=5+7i$ is $\\rvert c\\rvert=\\sqrt{5^2+7^2}=\\sqrt{25+49}=\\sqrt{74}$.\n",
    "\n",
    "\n",
    "### Conjugate\n",
    "\n",
    "Conjugate of a complex number, $c=a+bi$, is computed by simply changing the sign of the imaginary part. Therefore the conjugate is given by $\\overline{c}=a-bi$. In the later lessons, we will sometimes denote the conjugate with an asterisk as $c^*$.\n",
    "\n",
    "<b>Example: </b>The conjugate of $c=2-3i$ is $\\overline{c}=2+3i$."
   ]
  },
  {
   "cell_type": "code",
   "execution_count": null,
   "fracProfit": 45,
   "id": "90ba7266",
   "metadata": {
    "cell_details": {
     "cell_ID": "m2-quiz-2.2-interactive",
     "cell_alternates": [
      "m2-quiz-2.2"
     ],
     "cell_concepts": [
      "Modulus and Conjugation"
     ],
     "cell_estimated_time": "10",
     "cell_interactive": "true",
     "cell_outcomes": [
      "Compute the modulus of given complex numbers",
      "Compute the conjugate of given complex numbers"
     ],
     "cell_prereqs": [
      "m2-modulusConjugation"
     ],
     "cell_title": "Self Assessment Quiz 2 interactive",
     "cell_type": [
      "quiz"
     ],
     "module_outcomes": [
      "Master the concept of complex number representations",
      "Understand and apply basic properties of complex numbers",
      "Perform operations like addition, multiplication, division on complex numbers",
      "Compute modulus and conjugate of complex numbers",
      "Implement Python programs for complex number operations including addition, multiplication, division, computing modulus, and conjugate"
     ],
     "module_prereqs": [
      "Algebra",
      "Introduction to Programming",
      "Python Basics"
     ],
     "module_title": [
      "Properties of Complex Numbers"
     ]
    },
    "editable": true,
    "slideshow": {
     "slide_type": "slide"
    },
    "tags": []
   },
   "outputs": [],
   "profit": 1,
   "source": [
    "%run pyfiles/saquiz2_2   \"cell_title\": \"Self Assessment Quiz 1\",\n",
    "createQuiz2_2()"
   ]
  },
  {
   "cell_type": "markdown",
   "fracProfit": 40,
   "id": "b6d6b018",
   "metadata": {
    "cell_details": {
     "cell_ID": "m2-quiz-2.2",
     "cell_alternates": [
      "m2-quiz-2.2-interactive"
     ],
     "cell_concepts": [
      "Modulus and Conjugation"
     ],
     "cell_estimated_time": "5",
     "cell_interactive": "false",
     "cell_outcomes": [
      "Compute the modulus of given complex numbers",
      "Compute the conjugate of given complex numbers"
     ],
     "cell_prereqs": [
      "m2-modulusConjugation"
     ],
     "cell_title": "Self Assessment Quiz 2",
     "cell_type": [
      "quiz"
     ],
     "module_outcomes": [
      "Master the concept of complex number representations",
      "Understand and apply basic properties of complex numbers",
      "Perform operations like addition, multiplication, division on complex numbers",
      "Compute modulus and conjugate of complex numbers",
      "Implement Python programs for complex number operations including addition, multiplication, division, computing modulus, and conjugate"
     ],
     "module_prereqs": [
      "Algebra",
      "Introduction to Programming",
      "Python Basics"
     ],
     "module_title": [
      "Properties of Complex Numbers"
     ]
    },
    "editable": true,
    "slideshow": {
     "slide_type": "slide"
    },
    "tags": []
   },
   "profit": 1,
   "source": [
    "## Quiz 2.2 Self Assessment Quiz\n",
    "<b>Maybe used for in-class hands-on practice.</b>\n",
    "\n",
    "<b><i>Run the code in the next cell to generate a interactive version of this quiz.</i></b>\n",
    "\n",
    "Compute the modulus for the following complex numbers.\n",
    "\n",
    "1. $c=3+1i$\n",
    "2. $c=1+21i$\n",
    "3. $c=10+10i$\n",
    "\n",
    "Compute the conjugate for the following complex numbers.\n",
    "\n",
    "1. $c=-101i$\n",
    "2. $c=20+1i$\n",
    "3. $c=-1+441i$"
   ]
  },
  {
   "cell_type": "markdown",
   "fracProfit": 123,
   "id": "638dc256",
   "metadata": {
    "cell_details": {
     "cell_ID": "m3-polarRepresentation",
     "cell_alternates": [],
     "cell_concepts": [
      "Polar Representation of Complex Numbers"
     ],
     "cell_estimated_time": "3",
     "cell_interactive": "false",
     "cell_outcomes": [
      "Understand the polar representation of complex numbers",
      "Convert complex numbers from Cartesian to polar representation and vice versa",
      "Compute the magnitude and angle of complex numbers in polar representation"
     ],
     "cell_prereqs": [
      "m2-modulusConjugation",
      "m2-quiz-2.2",
      "m2-quiz-2.2-interactive"
     ],
     "cell_title": "Polar Representation of Complex Numbers",
     "cell_type": [
      "text"
     ],
     "module_outcomes": [
      "Understand the geometric representation of complex numbers",
      "Learn to represent complex numbers in Cartesian and polar coordinates",
      "Convert between Cartesian and polar representations of complex numbers",
      "Implement Python programs for representation and conversion of complex numbers"
     ],
     "module_prereqs": [
      "Algebra",
      "Trigonometry",
      "Introduction to Programming",
      "Python Basics",
      "The Basics of Complex Numbers"
     ],
     "module_title": [
      "Complex Numbers on a Plane"
     ]
    },
    "editable": true,
    "slideshow": {
     "slide_type": "slide"
    },
    "tags": []
   },
   "profit": 1,
   "source": [
    "## 3.2 Polar Representation of Complex Numbers\n",
    "\n",
    "Vectors in a plane can also be represented using the magnitude of the vector (modulus $\\rho$) and the angle $\\theta$ it makes with the $x$-axis. This is known as the <b>polar representation</b>.\n",
    "\n",
    "$$(a,b)\\rightarrow(\\rho,\\theta)$$\n",
    "\n",
    "where, $\\rho=\\sqrt{a^2+b^2}$ and $\\theta=tan^{-1}(\\frac{b}{a})$\n",
    "\n",
    "Going back to Cartesian representation: $a =\\rho cos (\\theta)$ and $b = \\rho sin(\\theta)$. Therefore, $a$ and $b$ are the projections of the vector on the $x$ and $y$ axes, respectively."
   ]
  },
  {
   "cell_type": "markdown",
   "fracProfit": 34,
   "id": "eb9ed86a",
   "metadata": {
    "cell_details": {
     "cell_ID": "m4-Background",
     "cell_alternates": [],
     "cell_concepts": [
      "Complex Vector Spaces"
     ],
     "cell_estimated_time": "2",
     "cell_interactive": "false",
     "cell_outcomes": [
      "Understand the concept of complex vector spaces",
      "Identify examples of complex vectors in different dimensions"
     ],
     "cell_prereqs": [
      "m1-complexNumbers"
     ],
     "cell_title": "Complex Vector Space ",
     "cell_type": [
      "text"
     ],
     "module_outcomes": [
      "Understand the concept of vector spaces in the context of complex numbers",
      "Learn basic operations within Complex Vector Spaces",
      "Understand and apply matrix operations in Complex Vector Spaces",
      "Develop programming skills for operations on complex vectors and matrices"
     ],
     "module_prereqs": [
      "Linear Algebra",
      "Complex Numbers",
      "Introduction to Programming",
      "Python Basics"
     ],
     "module_title": [
      "Complex Vector Spaces"
     ]
    },
    "editable": true,
    "slideshow": {
     "slide_type": "slide"
    },
    "tags": []
   },
   "profit": 1,
   "source": [
    "## 4.1 Background\n",
    "\n",
    "In short, a set of vectors of fixed lengths with complex entries forms a complex vector space. These vectors will represent the state of a quantum system. When we say $\\mathbb{C}^n$ we intend to describe a complex vector space of $n^{th}$ dimension. Following are examples of complex vector spaces of 2, 3 and 4 dimensions respectively,\n",
    "\n",
    "$$\\begin{bmatrix}4+3i\\\\ 2\\end{bmatrix}, \\begin{bmatrix}7i\\\\ 0\\\\ 4\\end{bmatrix}, \\mbox{ and } \\begin{bmatrix}4\\\\ 4+1i\\\\ 9\\\\ 10\\end{bmatrix}$$"
   ]
  },
  {
   "cell_type": "markdown",
   "fracProfit": 35,
   "id": "a02872f4",
   "metadata": {
    "cell_details": {
     "cell_ID": "m4-AdditiveIdentityInverse",
     "cell_alternates": [],
     "cell_concepts": [
      "Operations with Complex Vector Spaces"
     ],
     "cell_estimated_time": "1",
     "cell_interactive": "false",
     "cell_outcomes": [
      "Understand the concept of additive identity and additive inverse in complex vector spaces",
      "Compute the additive inverse of complex vectors"
     ],
     "cell_prereqs": [
      "m4-Background"
     ],
     "cell_title": "Additive Identity and Inverse",
     "cell_type": [
      "text"
     ],
     "module_outcomes": [
      "Understand the concept of vector spaces in the context of complex numbers",
      "Learn basic operations within Complex Vector Spaces",
      "Understand and apply matrix operations in Complex Vector Spaces",
      "Develop programming skills for operations on complex vectors and matrices"
     ],
     "module_prereqs": [
      "Linear Algebra",
      "Complex Numbers",
      "Introduction to Programming",
      "Python Basics"
     ],
     "module_title": [
      "Complex Vector Spaces"
     ]
    },
    "editable": true,
    "slideshow": {
     "slide_type": "slide"
    },
    "tags": []
   },
   "profit": 1,
   "source": [
    "## 4.4 Additive Identity and Inverse\n",
    "\n",
    "The zero vector, denoted by $\\mathbf{0}$ (in bold) acts as the <b>additive identity</b>. For example additive identity for $\\mathbb{C}^3$ is $[0, 0, 0]^T$; here, $T$ in the superscript denotes the transpose operation.\n",
    "\n",
    "Similarly, we have an <b>additive inverse</b> for every vector in a given complex vector space. The additive inverse is simply the negative of the vector that when added to it will make the result $\\mathbf{0}$. \n",
    "\n",
    "For vector $X$ above, the additive inverse is $-X = (-1)\\cdot X =\\begin{bmatrix}-7i\\\\ 0\\\\ -4\\end{bmatrix}$ and $X+(-X)=$ $\\mathbf{0}$."
   ]
  },
  {
   "cell_type": "markdown",
   "fracProfit": 37,
   "id": "accfff90",
   "metadata": {
    "cell_details": {
     "cell_ID": "m4-OperationsComplexVectors",
     "cell_alternates": [],
     "cell_concepts": [
      "Operations with Complex Vector Spaces"
     ],
     "cell_estimated_time": "3",
     "cell_interactive": "false",
     "cell_outcomes": [
      "Understand and perform addition of complex vectors",
      "Apply commutative and associative properties in vector addition"
     ],
     "cell_prereqs": [
      "m4-Background"
     ],
     "cell_title": "Operations of Complex Vectors",
     "cell_type": [
      "text"
     ],
     "module_outcomes": [
      "Understand the concept of vector spaces in the context of complex numbers",
      "Learn basic operations within Complex Vector Spaces",
      "Understand and apply matrix operations in Complex Vector Spaces",
      "Develop programming skills for operations on complex vectors and matrices"
     ],
     "module_prereqs": [
      "Linear Algebra",
      "Complex Numbers",
      "Introduction to Programming",
      "Python Basics"
     ],
     "module_title": [
      "Complex Vector Spaces"
     ]
    },
    "editable": true,
    "slideshow": {
     "slide_type": "slide"
    },
    "tags": []
   },
   "profit": 1,
   "source": [
    "## 4.2 Operations of Complex Vectors\n",
    "\n",
    "<b>Addition:</b> We can add the vectors that have the same dimensions. For example, given,\n",
    "$$X=\\begin{bmatrix}7i\\\\ 0\\\\ 4\\end{bmatrix} \\mbox{ and } Y=\\begin{bmatrix}1-2i\\\\ 5+1i\\\\ -3\\end{bmatrix}$$\n",
    "then $X+Y$ amounts to elementwise addition.\n",
    "$$Z=X+Y=\\begin{bmatrix}(7i)+(1-2i)\\\\ (0)+(5+1i)\\\\ (4)+(-3)\\end{bmatrix}=\\begin{bmatrix}1+5i\\\\5+1i\\\\1\\end{bmatrix}$$\n",
    "\n",
    "Further addition is <b>commutative</b>. Therefore, $X+Y = Y+X$.\n",
    "\n",
    "And <b>associative</b>, i.e., for three vectors $X, Y$ and $Z$: $(X+Y)+Z=X+(Y+Z)$."
   ]
  },
  {
   "cell_type": "markdown",
   "fracProfit": 37,
   "id": "0bf3a961",
   "metadata": {
    "cell_details": {
     "cell_ID": "m4-OperationsScalar",
     "cell_alternates": [],
     "cell_concepts": [
      "Operations with Complex Vector Spaces"
     ],
     "cell_estimated_time": "3",
     "cell_interactive": "false",
     "cell_outcomes": [
      "Understand and perform addition of complex vectors as a scalar"
     ],
     "cell_prereqs": [
      "m4-Background"
     ],
     "cell_title": "Opeartions with a scalar",
     "cell_type": [
      "text"
     ],
     "module_outcomes": [
      "Understand the concept of vector spaces in the context of complex numbers",
      "Learn basic operations within Complex Vector Spaces",
      "Understand and apply matrix operations in Complex Vector Spaces",
      "Develop programming skills for operations on complex vectors and matrices"
     ],
     "module_prereqs": [
      "Linear Algebra",
      "Complex Numbers",
      "Introduction to Programming",
      "Python Basics"
     ],
     "module_title": [
      "Complex Vector Spaces"
     ]
    },
    "editable": true,
    "jp-MarkdownHeadingCollapsed": true,
    "slideshow": {
     "slide_type": "slide"
    },
    "tags": []
   },
   "profit": 1,
   "source": [
    "## 4.3 Operations with a scalar\n",
    "\n",
    "We will call a complex number $c=a+bi$ a <b>scalar</b>. To multiply a vector with a scalar we simply multiply every element of the vector with the scalar.\n",
    "\n",
    "For example, let $c=2+5i$, then $c\\cdot X = (2+5i)\\cdot\\begin{bmatrix}7i\\\\0\\\\4\\end{bmatrix}=\\begin{bmatrix}(2+5i)\\cdot7i\\\\(2+5i)\\cdot0\\\\(2+5i)\\cdot4\\end{bmatrix}=\\begin{bmatrix}14i-35\\\\0\\\\8+20i\\end{bmatrix}$\n",
    "\n",
    "Properties of scalar multiplication include associativity and distributivity over addition."
   ]
  },
  {
   "cell_type": "markdown",
   "fracProfit": 114,
   "id": "1cea86e9",
   "metadata": {
    "cell_details": {
     "cell_ID": "m4-quiz-4.1",
     "cell_alternates": [
      "m4-quiz-4.1-interactive"
     ],
     "cell_concepts": [
      "Operations with Complex Vector Spaces"
     ],
     "cell_estimated_time": "5",
     "cell_interactive": "true",
     "cell_outcomes": [
      "Compute addition and subtraction of complex vectors",
      "Perform scalar multiplication on complex vectors",
      "Verify properties of complex vector spaces numerically"
     ],
     "cell_prereqs": [
      "m4-OperationsComplexVectors",
      "m4-OperationsScalar",
      "m4-AdditiveIdentityInverse"
     ],
     "cell_title": "Self Assessment Quiz 1",
     "cell_type": [
      "quiz"
     ],
     "module_outcomes": [
      "Understand the concept of vector spaces in the context of complex numbers",
      "Learn basic operations within Complex Vector Spaces",
      "Understand and apply matrix operations in Complex Vector Spaces",
      "Develop programming skills for operations on complex vectors and matrices"
     ],
     "module_prereqs": [
      "Linear Algebra",
      "Complex Numbers",
      "Introduction to Programming",
      "Python Basics"
     ],
     "module_title": [
      "Complex Vector Spaces"
     ]
    },
    "editable": true,
    "slideshow": {
     "slide_type": "slide"
    },
    "tags": []
   },
   "profit": 1,
   "source": [
    "## Quiz 4.1 Self Assessment Quiz\n",
    "<b>Maybe used for in-class hands-on practice.</b>\n",
    "\n",
    "<b><i>Run the code in the next cell to generate a interactive version of this quiz.</i></b>\n",
    "\n",
    "Let $c_1=2+7i$, $c_2=1-5i$ and $X=\\begin{bmatrix}5i\\\\5-1i\\\\7+10i\\end{bmatrix}$ and $Y=\\begin{bmatrix}-2i\\\\3+5i\\\\12\\end{bmatrix}$\n",
    "\n",
    "1. Compute the following,\n",
    "\n",
    "    a. $X+Y$\n",
    "\n",
    "    b. $X-Y$\n",
    "\n",
    "    c. $c_1X+c_2Y$\n",
    "2. Numerically verify the following properties,\n",
    "\n",
    "    a. $c_1\\cdot(c_2\\cdot X) = (c_1\\times c_2)\\cdot X$\n",
    "\n",
    "    b. $c\\cdot(X+Y)=c\\cdot X+c\\cdot Y$\n",
    "\n",
    "    c. $(c_1+c_2)\\cdot X=c_1\\cdot V+c_2\\cdot X$\n",
    "<br><br>\n",
    "3. If for some complex number $c$ we have $c\\cdot X=X$, then $c= ?$"
   ]
  },
  {
   "cell_type": "code",
   "execution_count": null,
   "fracProfit": 119,
   "id": "9afa74a5",
   "metadata": {
    "cell_details": {
     "cell_ID": "m4-quiz-4.1-interactive",
     "cell_alternates": [
      "m4-quiz-4.1"
     ],
     "cell_concepts": [
      "Operations with Complex Vector Spaces"
     ],
     "cell_estimated_time": "10",
     "cell_interactive": "true",
     "cell_outcomes": [
      "Compute addition and subtraction of complex vectors",
      "Perform scalar multiplication on complex vectors",
      "Verify properties of complex vector spaces numerically"
     ],
     "cell_prereqs": [
      "m4-OperationsComplexVectors",
      "m4-OperationsScalar",
      "m4-AdditiveIdentityInverse"
     ],
     "cell_title": "Self Assessment Quiz 1 interactive",
     "cell_type": [
      "quiz"
     ],
     "module_outcomes": [
      "Understand the concept of vector spaces in the context of complex numbers",
      "Learn basic operations within Complex Vector Spaces",
      "Understand and apply matrix operations in Complex Vector Spaces",
      "Develop programming skills for operations on complex vectors and matrices"
     ],
     "module_prereqs": [
      "Linear Algebra",
      "Complex Numbers",
      "Introduction to Programming",
      "Python Basics"
     ],
     "module_title": [
      "Complex Vector Spaces"
     ]
    },
    "editable": true,
    "slideshow": {
     "slide_type": "slide"
    },
    "tags": []
   },
   "outputs": [],
   "profit": 1,
   "source": [
    "%run pyfiles/saquiz4_1  #This runs the file that has the quiz code\n",
    "createQuiz4_1()"
   ]
  },
  {
   "cell_type": "markdown",
   "fracProfit": 345,
   "id": "116f0a2f",
   "metadata": {
    "cell_details": {
     "cell_ID": "m4-ComplexVectorSpaces",
     "cell_alternates": [],
     "cell_concepts": [
      "Operations with Complex Vector Spaces"
     ],
     "cell_estimated_time": "3",
     "cell_interactive": "false",
     "cell_outcomes": [
      "Understand the definition of complex vector spaces",
      "Identify operations and properties in complex vector spaces"
     ],
     "cell_prereqs": [
      "m4-OperationsComplexVectors",
      "m4-OperationsScalar",
      "m4-AdditiveIdentityInverse",
      "m4-quiz-4.1",
      "m4-quiz-4.1-interactive"
     ],
     "cell_title": "Complex Vector Spaces Properties",
     "cell_type": [
      "text"
     ],
     "module_outcomes": [
      "Understand the concept of vector spaces in the context of complex numbers",
      "Learn basic operations within Complex Vector Spaces",
      "Understand and apply matrix operations in Complex Vector Spaces",
      "Develop programming skills for operations on complex vectors and matrices"
     ],
     "module_prereqs": [
      "Linear Algebra",
      "Complex Numbers",
      "Introduction to Programming",
      "Python Basics"
     ],
     "module_title": [
      "Complex Vector Spaces"
     ]
    },
    "editable": true,
    "slideshow": {
     "slide_type": "slide"
    },
    "tags": []
   },
   "profit": 1,
   "source": [
    "## 4.5 Complex Vector Spaces\n",
    "\n",
    "We mentioned before that a nonempty set of vectors, denoted $\\mathbb{V}$, with complex entries and fixed length forms a complex vector space. The set accommodates the following operations: addition, negation and multiplication with a scalar. Further, it also has a special zero vector that forms the additive identity. We denote this vector by $\\textbf{0}$.\n",
    "\n",
    "Further, the vectors and operations in complex vector space satisfy the following properties:\n",
    "1. Addition is commutative and associative\n",
    "2. Every vector has a additive inverse: $X+(-X)=\\textbf{0}$\n",
    "3. Scalar multiplication distributes over addition and is associative."
   ]
  },
  {
   "cell_type": "markdown",
   "fracProfit": 348,
   "id": "6359c61a",
   "metadata": {
    "cell_details": {
     "cell_ID": "m6-InnerProduct",
     "cell_alternates": [],
     "cell_concepts": [
      "Inner Product and Properties"
     ],
     "cell_estimated_time": "3",
     "cell_interactive": "false",
     "cell_outcomes": [
      "Understand the definition of inner product for complex vector spaces",
      "Distinguish the inner product calculation for vectors and matrices"
     ],
     "cell_prereqs": [
      "m4-ComplexVectorSpaces"
     ],
     "cell_type": [
      "text"
     ],
     "module_outcomes": [
      "Master the operations on vectors and matrices in complex vector spaces",
      "Develop the skills to apply these operations in practical scenarios"
     ],
     "module_prereqs": [
      "Linear Algebra",
      "Complex Numbers",
      "Introduction to Programming",
      "Python Basics",
      "Complex Vector Spaces"
     ],
     "module_title": [
      "Properties and Operations on Vectors and Matrices in Complex Vector Spaces"
     ]
    },
    "editable": true,
    "slideshow": {
     "slide_type": "slide"
    },
    "tags": []
   },
   "profit": 1,
   "source": [
    "## 6.1 Inner Product\n",
    "\n",
    "<b>Definition: </b> An inner product (also called a dot product or scalar product) on a complex vector space $\\mathbb{V}$ is a function that takes two vectors and produces a complex number as output.\n",
    "\n",
    "The inner product of vectors is given by $\\left<V_1,V_2\\right> = V_1^\\dagger\\cdot V_2$ for both $\\mathbb{R}^n$ and $\\mathbb{C}^n$.\n",
    "\n",
    "The inner product of matrices is given by $\\left<P,Q\\right>=Trace(P^\\dagger\\cdot Q)$.\n",
    "\n",
    "Note that for vectors and matrices belonging to $\\mathbb{R}^n$, the adjoint operation is equivalent to taking the transpose.\n",
    "\n"
   ]
  },
  {
   "cell_type": "markdown",
   "fracProfit": 351,
   "id": "995371de",
   "metadata": {
    "cell_details": {
     "cell_ID": "m6-PropertiesInnerProduct",
     "cell_alternates": [],
     "cell_concepts": [
      "Inner Product and Properties"
     ],
     "cell_estimated_time": "3",
     "cell_interactive": "false",
     "cell_outcomes": [
      "Understand and apply the properties of inner product in complex vector spaces"
     ],
     "cell_prereqs": [
      "m6-InnerProduct"
     ],
     "cell_title": "Properties of Inner Product",
     "cell_type": [
      "text"
     ],
     "module_outcomes": [
      "Master the operations on vectors and matrices in complex vector spaces",
      "Develop the skills to apply these operations in practical scenarios"
     ],
     "module_prereqs": [
      "Linear Algebra",
      "Complex Numbers",
      "Introduction to Programming",
      "Python Basics",
      "Complex Vector Spaces"
     ],
     "module_title": [
      "Properties and Operations on Vectors and Matrices in Complex Vector Spaces"
     ]
    },
    "editable": true,
    "slideshow": {
     "slide_type": "slide"
    },
    "tags": []
   },
   "profit": 1,
   "source": [
    "## 6.2 Properties of Inner Product\n",
    "\n",
    "1. $\\left<V,V\\right> \\geq 0$ with equality only if $V=\\textbf{0}$   \n",
    "2. $\\left<V_1+V_2,V_3\\right> = \\left<V_1,V_3\\right>+\\left<V_2,V_3\\right>$<br>\n",
    "3. $\\left<V_1,V_2+V_3\\right> = \\left<V_1,V_2\\right>+\\left<V_1,V_3\\right>$\n",
    "4. $\\left<c\\cdot V_1,V_2\\right>=\\overline{c}\\times\\left<V_1,V_2\\right>$\n",
    "5. $\\left<V_1,c\\cdot V_2\\right>=c\\cdot\\left<V_1,V_2\\right>$\n",
    "6. $\\left<V_1,V_2\\right>=\\overline{\\left<V_2,V_1\\right>}$\n",
    "\n"
   ]
  },
  {
   "cell_type": "markdown",
   "fracProfit": 4237,
   "id": "ac9f9b87",
   "metadata": {
    "cell_details": {
     "cell_ID": "m6-NormVector",
     "cell_alternates": [],
     "cell_concepts": [
      "Norm of a Vector"
     ],
     "cell_estimated_time": "3",
     "cell_interactive": "false",
     "cell_outcomes": [
      "Understand and compute the norm of a vector using the inner product",
      "Apply the concept of norm to determine the length of vectors in complex vector spaces"
     ],
     "cell_prereqs": [
      "m6-InnerProduct",
      "m6-PropertiesInnerProduct",
      "m6-ExamplesInnerProduct",
      "m6-Quiz-6.1",
      "m6-Quiz-6.1-interactive"
     ],
     "cell_title": "Norm of a Vector",
     "cell_type": [
      "text"
     ],
     "module_outcomes": [
      "Master the operations on vectors and matrices in complex vector spaces",
      "Develop the skills to apply these operations in practical scenarios"
     ],
     "module_prereqs": [
      "Linear Algebra",
      "Complex Numbers",
      "Introduction to Programming",
      "Python Basics",
      "Complex Vector Spaces"
     ],
     "module_title": [
      "Properties and Operations on Vectors and Matrices in Complex Vector Spaces"
     ]
    },
    "editable": true,
    "slideshow": {
     "slide_type": "slide"
    },
    "tags": []
   },
   "profit": 1,
   "source": [
    "## 6.4 Norm of a Vector\n",
    "\n",
    "The norm of a vector is also called its length and is computed as $|V|=\\sqrt{\\left<V,V\\right>}$, where $\\left<V,V\\right>$ is the inner product of vector $V$ with itself. \n",
    "\n",
    "Further, we see that since the length of a vector must be non-negative and real, the inner product of a vector with itself is always a non-negative real number.\n",
    "\n",
    "<b>Examples:</b> Let $V=\\begin{bmatrix}9&4&-10\\end{bmatrix}^T$. Then,\n",
    "\n",
    "$$|V|=\\left|\\begin{bmatrix}9\\\\4\\\\-10\\end{bmatrix}\\right|=\\sqrt{\\left<\\begin{bmatrix}9\\\\4\\\\-10\\end{bmatrix},\\begin{bmatrix}9\\\\4\\\\-10\\end{bmatrix}\\right>}=\\sqrt{9^2+4^2+(-10)^2}=\\sqrt{197}$$"
   ]
  }
 ],
 "metadata": {},
 "nbformat": 4,
 "nbformat_minor": 5
}
