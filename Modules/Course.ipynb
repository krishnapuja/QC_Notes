{
 "cells": [
  {
   "cell_type": "markdown",
   "fracProfit": 2,
   "id": "7b39366a",
   "metadata": {
    "cell_details": {
     "cell_ID": "m1-background",
     "cell_alternates": [],
     "cell_concepts": [
      "Complex Numbers"
     ],
     "cell_estimated_time": "2",
     "cell_interactive": "false",
     "cell_outcomes": [
      "Understand the foundational role of complex numbers in quantum computing and cryptography",
      "Identify and differentiate between various number systems, leading up to and including real numbers",
      "Recognize the emergence and necessity of complex numbers in extending the real number system"
     ],
     "cell_prereqs": [],
     "cell_title": "Real Numbers",
     "cell_type": [
      "text"
     ],
     "module_outcomes": [
      "Master the concept of complex number representations",
      "Perform basic additive and multiplicative operations on complex numbers",
      "Implement Python programs for addition and multiplication on complex numbers"
     ],
     "module_prereqs": [
      "Algebra",
      "Introduction to Programming",
      "Python Basics"
     ],
     "module_title": [
      "The Basics of Complex Numbers"
     ]
    },
    "editable": true,
    "slideshow": {
     "slide_type": "slide"
    },
    "tags": []
   },
   "profit": 1,
   "source": [
    "## 1.2 Background\n",
    "\n",
    "In order to start understanding the theory behind quantum computing and cryptography, one needs to first understand what complex numbers are. It often comes as a surprise to many that complex numbers are deeply ingrained in quantum theory and nature for that matter!\n",
    "\n",
    "We usually work with the following number systems:\n",
    "<ul>\n",
    "     <li> Positive numbers, $\\mathbb{P} = {1, 2, 3, \\ldots}$ </li>\n",
    "     <li> Natural numbers, $\\mathbb{N} = {0, 1, 2, 3, \\ldots}$ </li>\n",
    "     <li> Integers, $\\mathbb{Z} = {\\ldots, -3, -2, -1, 0, 1, 2, 3, \\ldots}$ </li>\n",
    "     <li> Rational numbers, $\\mathbb{Q} = {\\frac{m}{n}|m\\in\\mathbb{Z}, n\\in\\mathbb{P}}$ </li>\n",
    "     <li> Real numbers, $\\mathbb{R} = \\mathbb{Q}\\cup{\\ldots,\\sqrt{2},\\ldots,e,\\ldots,\\pi,\\ldots,\\frac{e}{\\pi},\\ldots}$ </li>\n",
    "</ul>\n",
    "\n",
    "The last of these, set of real numbers, encompasses all the other types of number systems. So where do complex numbers come from and how do they fit in with the above commonly used number systems?"
   ]
  },
  {
   "cell_type": "markdown",
   "fracProfit": 5,
   "id": "d63af890",
   "metadata": {
    "cell_details": {
     "cell_ID": "m1-imaginaryNumbers",
     "cell_alternates": [],
     "cell_concepts": [
      "Complex Numbers"
     ],
     "cell_estimated_time": "3",
     "cell_interactive": "false",
     "cell_outcomes": [
      "Understand the motivation behind the introduction of complex numbers",
      "Learn the definition and properties of the imaginary unit i",
      "Perform arithmetic operations with imaginary numbers and recognize patterns in powers of i"
     ],
     "cell_prereqs": [
      "m1-background"
     ],
     "cell_title": "Imaginary Numbers",
     "cell_type": [
      "text"
     ],
     "module_outcomes": [
      "Master the concept of complex number representations",
      "Perform basic additive and multiplicative operations on complex numbers",
      "Implement Python programs for addition and multiplication on complex numbers"
     ],
     "module_prereqs": [
      "Algebra",
      "Introduction to Programming",
      "Python Basics"
     ],
     "module_title": [
      "The Basics of Complex Numbers"
     ]
    },
    "editable": true,
    "slideshow": {
     "slide_type": "slide"
    },
    "tags": []
   },
   "profit": 1,
   "source": [
    "## 1.3 Imaginary Numbers\n",
    "\n",
    "The birth of complex numbers is motivated by the desire to find solutions for polynomial equations. It is easy to see that some polynomials such as $x^2=-1$ do not have any solutions in real numbers. Mathematicians therefore had to take a leap of faith and assume that a solution to such equations does exist. In other words, there is a number that when squared will result in -1.\n",
    "\n",
    "They denoted this number by $i$, such that $i=\\sqrt{-1}$. Indeed, $i^2=-1$. Therefore, the solution to the above equation is $x=i$.\n",
    "\n",
    "This new number, $i$, clearly does not exist within the set of real numbers and is aptly called an *imaginary number*.\n",
    "\n",
    "We can use $i$ to do arithmetic operations. Therefore, $i^2=-1$, $i^3 = i\\times i\\times i = i^2\\times i=-1\\times i=-i$, $i^4=(i^2)^2=1$ and so on. Very soon a pattern emerges that can be used to compute higher powers of $i$."
   ]
  },
  {
   "cell_type": "code",
   "execution_count": 1,
   "fracProfit": 15,
   "id": "dba587d5",
   "metadata": {
    "cell_details": {
     "cell_ID": "m1-quiz-1.1-interactive",
     "cell_alternates": [
      "m1-quiz-1.1"
     ],
     "cell_concepts": [
      "Complex Numbers"
     ],
     "cell_estimated_time": "10",
     "cell_interactive": "true",
     "cell_outcomes": [
      "Solve quadratic equations involving imaginary numbers",
      "Simplify expressions involving powers of the imaginary unit i"
     ],
     "cell_prereqs": [
      "m1-imaginaryNumbers"
     ],
     "cell_title": "Self Assessment Quiz 1 interactive",
     "cell_type": [
      "text"
     ],
     "module_outcomes": [
      "Master the concept of complex number representations",
      "Perform basic additive and multiplicative operations on complex numbers",
      "Implement Python programs for addition and multiplication on complex numbers"
     ],
     "module_prereqs": [
      "Algebra",
      "Introduction to Programming",
      "Python Basics"
     ],
     "module_title": [
      "The Basics of Complex Numbers"
     ]
    },
    "editable": true,
    "slideshow": {
     "slide_type": "slide"
    },
    "tags": []
   },
   "outputs": [
    {
     "data": {
      "application/vnd.jupyter.widget-view+json": {
       "model_id": "af94f1bc6a9e455baf0053b75db2c1ac",
       "version_major": 2,
       "version_minor": 0
      },
      "text/plain": [
       "VBox(children=(HTML(value='<b><font size=\"+2\">Quiz 1.1 Self Assessment Quiz'), HTML(value='<b><font size=\"-1\"<…"
      ]
     },
     "execution_count": 1,
     "metadata": {},
     "output_type": "execute_result"
    }
   ],
   "profit": 1,
   "source": [
    "%run pyfiles/saquiz1_1  #This runs the file that has the quiz code\n",
    "SAQuiz1_1\n"
   ]
  },
  {
   "cell_type": "markdown",
   "fracProfit": 10,
   "id": "e9431579",
   "metadata": {
    "cell_details": {
     "cell_ID": "m1-quiz-1.1",
     "cell_alternates": [
      "m1-quiz-1.1-interactive"
     ],
     "cell_concepts": [
      "Complex Numbers"
     ],
     "cell_estimated_time": "5",
     "cell_interactive": "false",
     "cell_outcomes": [
      "Solve quadratic equations involving imaginary numbers",
      "Simplify expressions involving powers of the imaginary unit i"
     ],
     "cell_prereqs": [
      "m1-imaginaryNumbers"
     ],
     "cell_title": "Self Assessment Quiz 1",
     "cell_type": [
      "text"
     ],
     "module_outcomes": [
      "Master the concept of complex number representations",
      "Perform basic additive and multiplicative operations on complex numbers",
      "Implement Python programs for addition and multiplication on complex numbers"
     ],
     "module_prereqs": [
      "Algebra",
      "Introduction to Programming",
      "Python Basics"
     ],
     "module_title": [
      "The Basics of Complex Numbers"
     ]
    },
    "editable": true,
    "slideshow": {
     "slide_type": "slide"
    },
    "tags": []
   },
   "profit": 1,
   "source": [
    "## Quiz 1.1 Self Assessment Quiz \n",
    "<b>Maybe used for in-class hands-on practice.</b>\n",
    "\n",
    "<b><i>Run the code in the next cell to generate a interactive version of this quiz.</i></b>\n",
    "\n",
    "1. Solve for $x$ where $x^2+25=0$. Choose the right answer:\n",
    "\n",
    "    a. x=5i\n",
    "\n",
    "    b. x=-5i\n",
    "\n",
    "    c. x=i\n",
    "\n",
    "    d. x=5\n",
    "<br><br>\n",
    "2. Simplify $i^{225}$. (Hint: find a pattern)"
   ]
  },
  {
   "cell_type": "markdown",
   "fracProfit": 32,
   "id": "783309a3",
   "metadata": {
    "cell_details": {
     "cell_ID": "m1-complexNumbers",
     "cell_alternates": [],
     "cell_concepts": [
      "Complex Numbers"
     ],
     "cell_estimated_time": "2",
     "cell_interactive": "false",
     "cell_outcomes": [
      "Define complex numbers and understand their composition",
      "Identify the real and imaginary parts of a complex number",
      "Recognize complex numbers as a broader set of numbers encompassing real and imaginary numbers"
     ],
     "cell_prereqs": [
      "m1-imaginaryNumbers",
      "m1-quiz-1.1",
      "m1-quiz-1.1-interactive"
     ],
     "cell_title": "Complex Numbers",
     "cell_type": [
      "text"
     ],
     "module_outcomes": [
      "Master the concept of complex number representations",
      "Perform basic additive and multiplicative operations on complex numbers",
      "Implement Python programs for addition and multiplication on complex numbers"
     ],
     "module_prereqs": [
      "Algebra",
      "Introduction to Programming",
      "Python Basics"
     ],
     "module_title": [
      "The Basics of Complex Numbers"
     ]
    },
    "editable": true,
    "jp-MarkdownHeadingCollapsed": true,
    "slideshow": {
     "slide_type": "slide"
    },
    "tags": []
   },
   "profit": 1,
   "source": [
    "## 1.4 Complex Numbers\n",
    "\n",
    "Now that we know what real numbers look like and what imaginary numbers look like, we can define a complex number as follows,\n",
    "\n",
    "*A <b>complex number</b> is a combination of real and imaginary numbers. Therefore, an expression $c=a+b\\times i = a+bi$, where $a$ and $b$ are real numbers is said to be a complex number. Here $bi=b\\times i$ is understood.*\n",
    "\n",
    "Note that when $a=0$, we only have $c=bi$ and is a valid complex number. Often $a$ is called the real part of $c$ and $b$ is called the imaginary part of $c$. The set of all complex numbers is denoted by $\\mathbb{C}$."
   ]
  },
  {
   "cell_type": "markdown",
   "fracProfit": 35,
   "id": "e627f0bf",
   "metadata": {
    "cell_details": {
     "cell_ID": "m2-modulusConjugation",
     "cell_alternates": [],
     "cell_concepts": [
      "Modulus and Conjugation"
     ],
     "cell_estimated_time": "3",
     "cell_interactive": "false",
     "cell_outcomes": [
      "Understand the concept of modulus of a complex number",
      "Compute the modulus of complex numbers",
      "Understand the concept of conjugate of a complex number",
      "Compute the conjugate of complex numbers"
     ],
     "cell_prereqs": [
      "m1-complexNumbers"
     ],
     "cell_title": "Modulus and Conjugation",
     "cell_type": [
      "text"
     ],
     "module_outcomes": [
      "Master the concept of complex number representations",
      "Understand and apply basic properties of complex numbers",
      "Perform operations like addition, multiplication, division on complex numbers",
      "Compute modulus and conjugate of complex numbers",
      "Implement Python programs for complex number operations including addition, multiplication, division, computing modulus, and conjugate"
     ],
     "module_prereqs": [
      "Algebra",
      "Introduction to Programming",
      "Python Basics"
     ],
     "module_title": [
      "Properties of Complex Numbers"
     ]
    },
    "editable": true,
    "slideshow": {
     "slide_type": "slide"
    },
    "tags": []
   },
   "profit": 1,
   "source": [
    "## 2.4 Modulus and Conjugation\n",
    "\n",
    "### Modulus\n",
    "\n",
    "The <b>modulus</b> of a complex number is given by $\\rvert c\\rvert=\\rvert a+bi\\rvert=+\\sqrt{a^2+b^2}$. Note that we are only concerned with the positive square roots.\n",
    "\n",
    "<b>Example: </b>Modulus of $c=5+7i$ is $\\rvert c\\rvert=\\sqrt{5^2+7^2}=\\sqrt{25+49}=\\sqrt{74}$.\n",
    "\n",
    "\n",
    "### Conjugate\n",
    "\n",
    "Conjugate of a complex number, $c=a+bi$, is computed by simply changing the sign of the imaginary part. Therefore the conjugate is given by $\\overline{c}=a-bi$. In the later lessons, we will sometimes denote the conjugate with an asterisk as $c^*$.\n",
    "\n",
    "<b>Example: </b>The conjugate of $c=2-3i$ is $\\overline{c}=2+3i$."
   ]
  },
  {
   "cell_type": "code",
   "execution_count": null,
   "fracProfit": 45,
   "id": "05345f36",
   "metadata": {
    "cell_details": {
     "cell_ID": "m2-quiz-2.2-interactive",
     "cell_alternates": [
      "m2-quiz-2.2"
     ],
     "cell_concepts": [
      "Modulus and Conjugation"
     ],
     "cell_estimated_time": "10",
     "cell_interactive": "true",
     "cell_outcomes": [
      "Compute the modulus of given complex numbers",
      "Compute the conjugate of given complex numbers"
     ],
     "cell_prereqs": [
      "m2-modulusConjugation"
     ],
     "cell_title": "Self Assessment Quiz 2 interactive",
     "cell_type": [
      "quiz"
     ],
     "module_outcomes": [
      "Master the concept of complex number representations",
      "Understand and apply basic properties of complex numbers",
      "Perform operations like addition, multiplication, division on complex numbers",
      "Compute modulus and conjugate of complex numbers",
      "Implement Python programs for complex number operations including addition, multiplication, division, computing modulus, and conjugate"
     ],
     "module_prereqs": [
      "Algebra",
      "Introduction to Programming",
      "Python Basics"
     ],
     "module_title": [
      "Properties of Complex Numbers"
     ]
    },
    "editable": true,
    "slideshow": {
     "slide_type": "slide"
    },
    "tags": []
   },
   "outputs": [],
   "profit": 1,
   "source": [
    "%run pyfiles/saquiz2_2   \"cell_title\": \"Self Assessment Quiz 1\",\n",
    "createQuiz2_2()"
   ]
  },
  {
   "cell_type": "markdown",
   "fracProfit": 40,
   "id": "4ccead23",
   "metadata": {
    "cell_details": {
     "cell_ID": "m2-quiz-2.2",
     "cell_alternates": [
      "m2-quiz-2.2-interactive"
     ],
     "cell_concepts": [
      "Modulus and Conjugation"
     ],
     "cell_estimated_time": "5",
     "cell_interactive": "false",
     "cell_outcomes": [
      "Compute the modulus of given complex numbers",
      "Compute the conjugate of given complex numbers"
     ],
     "cell_prereqs": [
      "m2-modulusConjugation"
     ],
     "cell_title": "Self Assessment Quiz 2",
     "cell_type": [
      "quiz"
     ],
     "module_outcomes": [
      "Master the concept of complex number representations",
      "Understand and apply basic properties of complex numbers",
      "Perform operations like addition, multiplication, division on complex numbers",
      "Compute modulus and conjugate of complex numbers",
      "Implement Python programs for complex number operations including addition, multiplication, division, computing modulus, and conjugate"
     ],
     "module_prereqs": [
      "Algebra",
      "Introduction to Programming",
      "Python Basics"
     ],
     "module_title": [
      "Properties of Complex Numbers"
     ]
    },
    "editable": true,
    "slideshow": {
     "slide_type": "slide"
    },
    "tags": []
   },
   "profit": 1,
   "source": [
    "## Quiz 2.2 Self Assessment Quiz\n",
    "<b>Maybe used for in-class hands-on practice.</b>\n",
    "\n",
    "<b><i>Run the code in the next cell to generate a interactive version of this quiz.</i></b>\n",
    "\n",
    "Compute the modulus for the following complex numbers.\n",
    "\n",
    "1. $c=3+1i$\n",
    "2. $c=1+21i$\n",
    "3. $c=10+10i$\n",
    "\n",
    "Compute the conjugate for the following complex numbers.\n",
    "\n",
    "1. $c=-101i$\n",
    "2. $c=20+1i$\n",
    "3. $c=-1+441i$"
   ]
  }
 ],
 "metadata": {},
 "nbformat": 4,
 "nbformat_minor": 5
}
