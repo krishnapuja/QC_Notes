{
 "cells": [
  {
   "cell_type": "markdown",
   "id": "8ebe6af9",
   "metadata": {
    "cell_details": {
     "cell_ID": "m1-background",
     "cell_alternates": [],
     "cell_concepts": [
      "Complex Numbers"
     ],
     "cell_estimated_time": "2",
     "cell_interactive": "false",
     "cell_outcomes": [
      "Understand the foundational role of complex numbers in quantum computing and cryptography",
      "Identify and differentiate between various number systems, leading up to and including real numbers",
      "Recognize the emergence and necessity of complex numbers in extending the real number system"
     ],
     "cell_prereqs": [],
     "cell_title": "Real Numbers",
     "cell_type": [
      "text"
     ],
     "module_outcomes": [
      "Master the concept of complex number representations",
      "Perform basic additive and multiplicative operations on complex numbers",
      "Implement Python programs for addition and multiplication on complex numbers"
     ],
     "module_prereqs": [
      "Algebra",
      "Introduction to Programming",
      "Python Basics"
     ],
     "module_title": [
      "The Basics of Complex Numbers"
     ]
    },
    "editable": true,
    "slideshow": {
     "slide_type": "slide"
    },
    "tags": []
   },
   "source": [
    "## 1.2 Background\n",
    "\n",
    "In order to start understanding the theory behind quantum computing and cryptography, one needs to first understand what complex numbers are. It often comes as a surprise to many that complex numbers are deeply ingrained in quantum theory and nature for that matter!\n",
    "\n",
    "We usually work with the following number systems:\n",
    "<ul>\n",
    "     <li> Positive numbers, $\\mathbb{P} = {1, 2, 3, \\ldots}$ </li>\n",
    "     <li> Natural numbers, $\\mathbb{N} = {0, 1, 2, 3, \\ldots}$ </li>\n",
    "     <li> Integers, $\\mathbb{Z} = {\\ldots, -3, -2, -1, 0, 1, 2, 3, \\ldots}$ </li>\n",
    "     <li> Rational numbers, $\\mathbb{Q} = {\\frac{m}{n}|m\\in\\mathbb{Z}, n\\in\\mathbb{P}}$ </li>\n",
    "     <li> Real numbers, $\\mathbb{R} = \\mathbb{Q}\\cup{\\ldots,\\sqrt{2},\\ldots,e,\\ldots,\\pi,\\ldots,\\frac{e}{\\pi},\\ldots}$ </li>\n",
    "</ul>\n",
    "\n",
    "The last of these, set of real numbers, encompasses all the other types of number systems. So where do complex numbers come from and how do they fit in with the above commonly used number systems?"
   ]
  },
  {
   "cell_type": "markdown",
   "id": "12babb08",
   "metadata": {
    "cell_details": {
     "cell_ID": "m1-imaginaryNumbers",
     "cell_alternates": [],
     "cell_concepts": [
      "Complex Numbers"
     ],
     "cell_estimated_time": "3",
     "cell_interactive": "false",
     "cell_outcomes": [
      "Understand the motivation behind the introduction of complex numbers",
      "Learn the definition and properties of the imaginary unit i",
      "Perform arithmetic operations with imaginary numbers and recognize patterns in powers of i"
     ],
     "cell_prereqs": [
      "m1-background"
     ],
     "cell_title": "Imaginary Numbers",
     "cell_type": [
      "text"
     ],
     "module_outcomes": [
      "Master the concept of complex number representations",
      "Perform basic additive and multiplicative operations on complex numbers",
      "Implement Python programs for addition and multiplication on complex numbers"
     ],
     "module_prereqs": [
      "Algebra",
      "Introduction to Programming",
      "Python Basics"
     ],
     "module_title": [
      "The Basics of Complex Numbers"
     ]
    },
    "editable": true,
    "slideshow": {
     "slide_type": "slide"
    },
    "tags": []
   },
   "source": [
    "## 1.3 Imaginary Numbers\n",
    "\n",
    "The birth of complex numbers is motivated by the desire to find solutions for polynomial equations. It is easy to see that some polynomials such as $x^2=-1$ do not have any solutions in real numbers. Mathematicians therefore had to take a leap of faith and assume that a solution to such equations does exist. In other words, there is a number that when squared will result in -1.\n",
    "\n",
    "They denoted this number by $i$, such that $i=\\sqrt{-1}$. Indeed, $i^2=-1$. Therefore, the solution to the above equation is $x=i$.\n",
    "\n",
    "This new number, $i$, clearly does not exist within the set of real numbers and is aptly called an *imaginary number*.\n",
    "\n",
    "We can use $i$ to do arithmetic operations. Therefore, $i^2=-1$, $i^3 = i\\times i\\times i = i^2\\times i=-1\\times i=-i$, $i^4=(i^2)^2=1$ and so on. Very soon a pattern emerges that can be used to compute higher powers of $i$."
   ]
  },
  {
   "cell_type": "code",
   "execution_count": 1,
   "id": "88ffe68f",
   "metadata": {
    "cell_details": {
     "cell_ID": "m1-quiz-1.1-interactive",
     "cell_alternates": [
      "m1-quiz-1.1"
     ],
     "cell_concepts": [
      "Complex Numbers"
     ],
     "cell_estimated_time": "10",
     "cell_interactive": "true",
     "cell_outcomes": [
      "Solve quadratic equations involving imaginary numbers",
      "Simplify expressions involving powers of the imaginary unit i"
     ],
     "cell_prereqs": [
      "m1-imaginaryNumbers"
     ],
     "cell_title": "Self Assessment Quiz 1 interactive",
     "cell_type": [
      "text"
     ],
     "module_outcomes": [
      "Master the concept of complex number representations",
      "Perform basic additive and multiplicative operations on complex numbers",
      "Implement Python programs for addition and multiplication on complex numbers"
     ],
     "module_prereqs": [
      "Algebra",
      "Introduction to Programming",
      "Python Basics"
     ],
     "module_title": [
      "The Basics of Complex Numbers"
     ]
    },
    "editable": true,
    "slideshow": {
     "slide_type": "slide"
    },
    "tags": []
   },
   "outputs": [
    {
     "data": {
      "application/vnd.jupyter.widget-view+json": {
       "model_id": "af94f1bc6a9e455baf0053b75db2c1ac",
       "version_major": 2,
       "version_minor": 0
      },
      "text/plain": [
       "VBox(children=(HTML(value='<b><font size=\"+2\">Quiz 1.1 Self Assessment Quiz'), HTML(value='<b><font size=\"-1\"<…"
      ]
     },
     "execution_count": 1,
     "metadata": {},
     "output_type": "execute_result"
    }
   ],
   "source": [
    "%run pyfiles/saquiz1_1  #This runs the file that has the quiz code\n",
    "SAQuiz1_1\n"
   ]
  },
  {
   "cell_type": "markdown",
   "id": "293592c7",
   "metadata": {
    "cell_details": {
     "cell_ID": "m1-quiz-1.1",
     "cell_alternates": [
      "m1-quiz-1.1-interactive"
     ],
     "cell_concepts": [
      "Complex Numbers"
     ],
     "cell_estimated_time": "5",
     "cell_interactive": "false",
     "cell_outcomes": [
      "Solve quadratic equations involving imaginary numbers",
      "Simplify expressions involving powers of the imaginary unit i"
     ],
     "cell_prereqs": [
      "m1-imaginaryNumbers"
     ],
     "cell_title": "Self Assessment Quiz 1",
     "cell_type": [
      "text"
     ],
     "module_outcomes": [
      "Master the concept of complex number representations",
      "Perform basic additive and multiplicative operations on complex numbers",
      "Implement Python programs for addition and multiplication on complex numbers"
     ],
     "module_prereqs": [
      "Algebra",
      "Introduction to Programming",
      "Python Basics"
     ],
     "module_title": [
      "The Basics of Complex Numbers"
     ]
    },
    "editable": true,
    "slideshow": {
     "slide_type": "slide"
    },
    "tags": []
   },
   "source": [
    "## Quiz 1.1 Self Assessment Quiz \n",
    "<b>Maybe used for in-class hands-on practice.</b>\n",
    "\n",
    "<b><i>Run the code in the next cell to generate a interactive version of this quiz.</i></b>\n",
    "\n",
    "1. Solve for $x$ where $x^2+25=0$. Choose the right answer:\n",
    "\n",
    "    a. x=5i\n",
    "\n",
    "    b. x=-5i\n",
    "\n",
    "    c. x=i\n",
    "\n",
    "    d. x=5\n",
    "<br><br>\n",
    "2. Simplify $i^{225}$. (Hint: find a pattern)"
   ]
  },
  {
   "cell_type": "markdown",
   "id": "2fa60947",
   "metadata": {
    "cell_details": {
     "cell_ID": "m1-complexNumbers",
     "cell_alternates": [],
     "cell_concepts": [
      "Complex Numbers"
     ],
     "cell_estimated_time": "2",
     "cell_interactive": "false",
     "cell_outcomes": [
      "Define complex numbers and understand their composition",
      "Identify the real and imaginary parts of a complex number",
      "Recognize complex numbers as a broader set of numbers encompassing real and imaginary numbers"
     ],
     "cell_prereqs": [
      "m1-imaginaryNumbers",
      "m1-quiz-1.1",
      "m1-quiz-1.1-interactive"
     ],
     "cell_title": "Complex Numbers",
     "cell_type": [
      "text"
     ],
     "module_outcomes": [
      "Master the concept of complex number representations",
      "Perform basic additive and multiplicative operations on complex numbers",
      "Implement Python programs for addition and multiplication on complex numbers"
     ],
     "module_prereqs": [
      "Algebra",
      "Introduction to Programming",
      "Python Basics"
     ],
     "module_title": [
      "The Basics of Complex Numbers"
     ]
    },
    "editable": true,
    "jp-MarkdownHeadingCollapsed": true,
    "slideshow": {
     "slide_type": "slide"
    },
    "tags": []
   },
   "source": [
    "## 1.4 Complex Numbers\n",
    "\n",
    "Now that we know what real numbers look like and what imaginary numbers look like, we can define a complex number as follows,\n",
    "\n",
    "*A <b>complex number</b> is a combination of real and imaginary numbers. Therefore, an expression $c=a+b\\times i = a+bi$, where $a$ and $b$ are real numbers is said to be a complex number. Here $bi=b\\times i$ is understood.*\n",
    "\n",
    "Note that when $a=0$, we only have $c=bi$ and is a valid complex number. Often $a$ is called the real part of $c$ and $b$ is called the imaginary part of $c$. The set of all complex numbers is denoted by $\\mathbb{C}$."
   ]
  },
  {
   "cell_type": "markdown",
   "id": "2b38c16e",
   "metadata": {
    "cell_details": {
     "cell_ID": "m1-operationsComplex",
     "cell_alternates": [],
     "cell_concepts": [
      "Operations on Complex Numbers"
     ],
     "cell_estimated_time": "3",
     "cell_interactive": "false",
     "cell_outcomes": [
      "Perform addition and multiplication operations on complex numbers",
      "Understand how to combine real and imaginary parts in arithmetic operations",
      "Apply the defined operations to solve problems involving complex numbers"
     ],
     "cell_prereqs": [
      "m1-complexNumbers"
     ],
     "cell_title": "Operations on Complex Numbers",
     "cell_type": [
      "text"
     ],
     "module_outcomes": [
      "Master the concept of complex number representations",
      "Perform basic additive and multiplicative operations on complex numbers",
      "Implement Python programs for addition and multiplication on complex numbers"
     ],
     "module_prereqs": [
      "Algebra",
      "Introduction to Programming",
      "Python Basics"
     ],
     "module_title": [
      "The Basics of Complex Numbers"
     ]
    },
    "editable": true,
    "slideshow": {
     "slide_type": "slide"
    },
    "tags": []
   },
   "source": [
    "## 1.5 Operations on Complex Numbers\n",
    "\n",
    "Let's look at couple of operations on complex numbers: addition and multiplication,\n",
    "\n",
    "<b>Addition:</b> If $c_1 = a_1+b_1i$ and $c_2=a_2+b_2i$, then $c_1+c_2=(a_1+a_2)+(b_1+b_2)i$.\n",
    "\n",
    "<b>Multiplication:</b> If $c_1 = a_1+b_1i$ and $c_2=a_2+b_2i$, then $c_1\\times c_2=(a_1a_2-b_1b_2)+(a_1b_2+a_2b_1)i$.\n",
    "\n",
    "Therefore, $i$ is almost treated as a variable.\n",
    "\n",
    "Example:\n",
    "\n",
    "Let $c_1=5+11i$ and $c_2=3+8i$, then\n",
    "\n",
    "<ul>\n",
    "    <li> $c_1+c_2 = (5+3) + (11+8)i = 8+19i$</li>\n",
    "    <li> $c_1\\times c_2 = (5\\times3-11\\times8)+(5\\times8+11\\times3)i=-73+73i$ </li>\n",
    "</ul>"
   ]
  },
  {
   "cell_type": "code",
   "execution_count": null,
   "id": "5a62c22b",
   "metadata": {
    "cell_details": {
     "cell_ID": "m1-quiz-1.2-interactive",
     "cell_alternates": [
      "m1-quiz-1.2"
     ],
     "cell_concepts": [
      "Operations on Complex Numbers"
     ],
     "cell_estimated_time": "10",
     "cell_interactive": "true",
     "cell_outcomes": [
      "Solve quadratic equations with complex solutions",
      "Perform addition, multiplication, and scalar multiplication operations on complex numbers",
      "Apply algebraic methods to complex number operations for solving problems"
     ],
     "cell_prereqs": [
      "m1-operationsComplex",
      "m1-complexNumbers"
     ],
     "cell_title": "Self Assessment Quiz 2 interactive",
     "cell_type": [
      "quiz"
     ],
     "module_outcomes": [
      "Master the concept of complex number representations",
      "Perform basic additive and multiplicative operations on complex numbers",
      "Implement Python programs for addition and multiplication on complex numbers"
     ],
     "module_prereqs": [
      "Algebra",
      "Introduction to Programming",
      "Python Basics"
     ],
     "module_title": [
      "The Basics of Complex Numbers"
     ]
    },
    "editable": true,
    "slideshow": {
     "slide_type": "slide"
    },
    "tags": []
   },
   "outputs": [],
   "source": [
    "%run pyfiles/saquiz1_2\n",
    "SAQuiz1_2"
   ]
  },
  {
   "cell_type": "markdown",
   "id": "732206f4",
   "metadata": {
    "cell_details": {
     "cell_ID": "m1-quiz-1.2",
     "cell_alternates": [
      "m1-quiz-1.2-interactive"
     ],
     "cell_concepts": [
      "Operations on Complex Numbers"
     ],
     "cell_estimated_time": "5",
     "cell_interactive": "false",
     "cell_outcomes": [
      "Solve quadratic equations with complex solutions",
      "Perform addition, multiplication, and scalar multiplication operations on complex numbers",
      "Apply algebraic methods to complex number operations for solving problems"
     ],
     "cell_prereqs": [
      "m1-operationsComplex",
      "m1-complexNumbers"
     ],
     "cell_title": "Self Assessment Quiz 2",
     "cell_type": [
      "text"
     ],
     "module_outcomes": [
      "Master the concept of complex number representations",
      "Perform basic additive and multiplicative operations on complex numbers",
      "Implement Python programs for addition and multiplication on complex numbers"
     ],
     "module_prereqs": [
      "Algebra",
      "Introduction to Programming",
      "Python Basics"
     ],
     "module_title": [
      "The Basics of Complex Numbers"
     ]
    },
    "editable": true,
    "slideshow": {
     "slide_type": "slide"
    },
    "tags": []
   },
   "source": [
    "## Quiz 1.2 Self Assessment Quiz\n",
    "<b>Maybe used for in-class hands-on practice.</b>\n",
    "\n",
    "<b><i>Run the code in the next cell to generate a interactive version of this quiz. Note that some of the problems are generated algorithmically and therefore provides many more practice exercises.</i></b>\n",
    "\n",
    "1\\. Solve for $x$, where $x^2+2x+10=0$.\n",
    "\n",
    "Let $c_1=2+50i$ and $c_2=3+\\frac{1}{2}i$, compute the following:\n",
    "\n",
    "2\\. $c_1+c_2$\n",
    "\n",
    "3\\. $c_1\\times c_2$\n",
    "\n",
    "4\\. $7\\times c_2$"
   ]
  }
 ],
 "metadata": {
  "kernelspec": {
   "display_name": "Python 3 (ipykernel)",
   "language": "python",
   "name": "python3"
  },
  "language_info": {
   "codemirror_mode": {
    "name": "ipython",
    "version": 3
   },
   "file_extension": ".py",
   "mimetype": "text/x-python",
   "name": "python",
   "nbconvert_exporter": "python",
   "pygments_lexer": "ipython3",
   "version": "3.12.2"
  }
 },
 "nbformat": 4,
 "nbformat_minor": 5
}
