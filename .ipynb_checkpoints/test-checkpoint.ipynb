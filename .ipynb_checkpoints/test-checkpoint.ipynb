{
 "cells": [
  {
   "cell_type": "code",
   "execution_count": 2,
   "id": "df35ac92-24f6-45ef-bfd5-70d30517724c",
   "metadata": {},
   "outputs": [
    {
     "ename": "ModuleNotFoundError",
     "evalue": "No module named 'assemblyai'",
     "output_type": "error",
     "traceback": [
      "\u001b[1;31m---------------------------------------------------------------------------\u001b[0m",
      "\u001b[1;31mModuleNotFoundError\u001b[0m                       Traceback (most recent call last)",
      "Cell \u001b[1;32mIn[2], line 1\u001b[0m\n\u001b[1;32m----> 1\u001b[0m \u001b[38;5;28;01mimport\u001b[39;00m \u001b[38;5;21;01massemblyai\u001b[39;00m \u001b[38;5;28;01mas\u001b[39;00m \u001b[38;5;21;01maai\u001b[39;00m\n\u001b[0;32m      3\u001b[0m \u001b[38;5;66;03m#aai.settings.api_key = \"YOUR_API_KEY\"\u001b[39;00m\n\u001b[0;32m      4\u001b[0m aai\u001b[38;5;241m.\u001b[39msettings\u001b[38;5;241m.\u001b[39mapi_key \u001b[38;5;241m=\u001b[39m \u001b[38;5;124m\"\u001b[39m\u001b[38;5;124m4abde58e767b44029114592661ea4432\u001b[39m\u001b[38;5;124m\"\u001b[39m\n",
      "\u001b[1;31mModuleNotFoundError\u001b[0m: No module named 'assemblyai'"
     ]
    }
   ],
   "source": [
    "import assemblyai as aai\n",
    "\n",
    "#aai.settings.api_key = \"YOUR_API_KEY\"\n",
    "aai.settings.api_key = \"4abde58e767b44029114592661ea4432\"\n",
    "\n",
    "\n",
    "def on_open(session_opened: aai.RealtimeSessionOpened):\n",
    "    print(\"Session ID:\", session_opened.session_id)\n",
    "\n",
    "\n",
    "def on_data(transcript: aai.RealtimeTranscript):\n",
    "    if not transcript.text:\n",
    "        return\n",
    "\n",
    "    if isinstance(transcript, aai.RealtimeFinalTranscript):\n",
    "        print(transcript.text, end=\"\\r\\n\")\n",
    "    else:\n",
    "        print(transcript.text, end=\"\\r\")\n",
    "\n",
    "\n",
    "def on_error(error: aai.RealtimeError):\n",
    "    print(\"An error occured:\", error)\n",
    "\n",
    "\n",
    "def on_close():\n",
    "    print(\"Closing Session\")\n",
    "\n",
    "\n",
    "transcriber = aai.RealtimeTranscriber(\n",
    "    sample_rate=16_000,\n",
    "    on_data=on_data,\n",
    "    on_error=on_error,\n",
    "    on_open=on_open,\n",
    "    on_close=on_close,\n",
    ")\n",
    "\n",
    "transcriber.connect()\n",
    "\n",
    "microphone_stream = aai.extras.MicrophoneStream(sample_rate=16_000)\n",
    "transcriber.stream(microphone_stream)\n",
    "\n",
    "transcriber.close()"
   ]
  },
  {
   "cell_type": "code",
   "execution_count": 2,
   "id": "0ac51a6b-3b2f-4220-8d8b-de88323a22d8",
   "metadata": {},
   "outputs": [
    {
     "ename": "ModuleNotFoundError",
     "evalue": "No module named 'assemblyai'",
     "output_type": "error",
     "traceback": [
      "\u001b[1;31m---------------------------------------------------------------------------\u001b[0m",
      "\u001b[1;31mModuleNotFoundError\u001b[0m                       Traceback (most recent call last)",
      "Cell \u001b[1;32mIn[2], line 1\u001b[0m\n\u001b[1;32m----> 1\u001b[0m \u001b[38;5;28;01mimport\u001b[39;00m \u001b[38;5;21;01massemblyai\u001b[39;00m \u001b[38;5;28;01mas\u001b[39;00m \u001b[38;5;21;01maai\u001b[39;00m\n\u001b[0;32m      3\u001b[0m aai\u001b[38;5;241m.\u001b[39msettings\u001b[38;5;241m.\u001b[39mapi_key \u001b[38;5;241m=\u001b[39m \u001b[38;5;124m\"\u001b[39m\u001b[38;5;124m4abde58e767b44029114592661ea4432\u001b[39m\u001b[38;5;124m\"\u001b[39m\n\u001b[0;32m      5\u001b[0m transcriber \u001b[38;5;241m=\u001b[39m aai\u001b[38;5;241m.\u001b[39mTranscriber()\n",
      "\u001b[1;31mModuleNotFoundError\u001b[0m: No module named 'assemblyai'"
     ]
    }
   ],
   "source": [
    "import assemblyai as aai\n",
    "\n",
    "aai.settings.api_key = \"4abde58e767b44029114592661ea4432\"\n",
    "\n",
    "transcriber = aai.Transcriber()\n",
    "\n",
    "audio_url = (\n",
    "    \"https://storage.googleapis.com/aai-web-samples/5_common_sports_injuries.mp3\"\n",
    ")\n",
    "\n",
    "config = aai.TranscriptionConfig(speaker_labels=True)\n",
    "\n",
    "transcript = transcriber.transcribe(audio_url, config)\n",
    "\n",
    "print(transcript.text)\n",
    "\n",
    "for utterance in transcript.utterances:\n",
    "    print(f\"Speaker {utterance.speaker}: {utterance.text}\")"
   ]
  },
  {
   "cell_type": "code",
   "execution_count": null,
   "id": "0efd1989-b5c6-4d59-a9a3-2ca84da7ed5b",
   "metadata": {},
   "outputs": [],
   "source": []
  }
 ],
 "metadata": {
  "kernelspec": {
   "display_name": "Python 3 (ipykernel)",
   "language": "python",
   "name": "python3"
  },
  "language_info": {
   "codemirror_mode": {
    "name": "ipython",
    "version": 3
   },
   "file_extension": ".py",
   "mimetype": "text/x-python",
   "name": "python",
   "nbconvert_exporter": "python",
   "pygments_lexer": "ipython3",
   "version": "3.12.2"
  }
 },
 "nbformat": 4,
 "nbformat_minor": 5
}
