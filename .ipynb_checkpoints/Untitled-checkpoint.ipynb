{
 "cells": [
  {
   "cell_type": "code",
   "execution_count": 4,
   "id": "9f8a3170-517b-4c37-872c-f3e308a410ba",
   "metadata": {},
   "outputs": [
    {
     "name": "stdout",
     "output_type": "stream",
     "text": [
      "[[-1, -1, -1, -1, -1, -1, -1, -1, -1, -1, -1], [-1, -1, -1, -1, -1, -1, -1, -1, -1, -1, -1], [-1, -1, -1, -1, -1, -1, -1, -1, -1, -1, -1], [-1, -1, -1, -1, -1, -1, -1, -1, -1, -1, -1], [-1, -1, -1, -1, -1, -1, -1, -1, -1, -1, -1], [-1, -1, -1, -1, -1, -1, -1, -1, -1, -1, -1], [-1, -1, -1, -1, -1, -1, -1, -1, -1, -1, -1]]\n",
      "8 0\n",
      "8 0\n",
      "18 8\n",
      "-inf 18\n",
      "8 0\n",
      "8 0\n",
      "18 8\n",
      "-inf 18\n",
      "21 18\n",
      "-inf 0\n",
      "10 8\n",
      "-inf 10\n",
      "8 0\n",
      "10 8\n",
      "-inf 10\n",
      "13 10\n",
      "25 21\n",
      "8 0\n",
      "18 8\n",
      "-inf 18\n",
      "21 18\n",
      "8 0\n",
      "-inf 8\n",
      "-inf 8\n",
      "11 10\n",
      "23 21\n",
      "28 25\n",
      "Maximum value achievable is: 28\n"
     ]
    }
   ],
   "source": [
    "def pbkp(weights, values, prerequisites, W):\n",
    "    n = len(weights)  # Number of items\n",
    "    # Initialize DP table with -1 (uncomputed state)\n",
    "    dp = [[-1 for _ in range(W + 1)] for _ in range(n + 1)]\n",
    "    print(dp)\n",
    "    \n",
    "    def solve(i, w):\n",
    "        # Base cases\n",
    "        if w < 0: return float('-inf')  # Weight becomes negative, not possible\n",
    "        if i == 0 or w == 0: return 0  # No items or no capacity\n",
    "        if dp[i][w] != -1: return dp[i][w]  # Already computed\n",
    "        \n",
    "        not_take = solve(i-1, w)  # Option 1: Not taking item i\n",
    "        take = float('-inf')\n",
    "        if prerequisites[i-1] == -1 or dp[prerequisites[i-1]][w] != -1:  # Check prerequisite\n",
    "            if weights[i-1] <= w:  # Check weight\n",
    "                take = values[i-1] + solve(i-1, w - weights[i-1])  # Option 2: Taking item i\n",
    "        \n",
    "        dp[i][w] = max(take, not_take)  # Store the result\n",
    "        print(take, not_take)\n",
    "        return dp[i][w]\n",
    "    \n",
    "    # Start from the last item and full capacity\n",
    "    return solve(n, W)\n",
    "\n",
    "# Example\n",
    "weights = [3, 4, 2, 1, 5, 1]\n",
    "values = [8, 10, 7, 3, 12, 5]\n",
    "prerequisites = [-1, -1, 0, -1, 3, 3]  # Using index in the list, -1 means no prerequisite\n",
    "W = 10\n",
    "\n",
    "max_value = pbkp(weights, values, prerequisites, W)\n",
    "print(f\"Maximum value achievable is: {max_value}\")\n"
   ]
  },
  {
   "cell_type": "code",
   "execution_count": 1,
   "id": "f3a6f212-91d2-4470-bbe0-71c8cdb3819c",
   "metadata": {},
   "outputs": [
    {
     "name": "stdout",
     "output_type": "stream",
     "text": [
      "Child: Grandchild1 Parents: ['Root', 'Child1']\n",
      "Child: Grandchild2 Parents: ['Root', 'Child2']\n"
     ]
    }
   ],
   "source": [
    "class Node:\n",
    "    def __init__(self, value):\n",
    "        self.value = value\n",
    "        self.children = []\n",
    "\n",
    "    def add_child(self, child):\n",
    "        self.children.append(child)\n",
    "def dfs(node, path=[]):\n",
    "    \"\"\"\n",
    "    Perform DFS traversal from the given node, printing all parent nodes for each child.\n",
    "    \"\"\"\n",
    "    # Include the current node in the path\n",
    "    path = path + [node]\n",
    "\n",
    "    # If the node is a leaf (no children), print the path excluding the leaf itself\n",
    "    if not node.children:\n",
    "        print(\"Child:\", node.value, \"Parents:\", [p.value for p in path[:-1]])\n",
    "\n",
    "    # Recurse for each child\n",
    "    for child in node.children:\n",
    "        dfs(child, path)\n",
    "# Create nodes\n",
    "root = Node(\"Root\")\n",
    "child1 = Node(\"Child1\")\n",
    "child2 = Node(\"Child2\")\n",
    "grandchild1 = Node(\"Grandchild1\")\n",
    "grandchild2 = Node(\"Grandchild2\")\n",
    "\n",
    "# Construct the tree\n",
    "root.add_child(child1)\n",
    "root.add_child(child2)\n",
    "child1.add_child(grandchild1)\n",
    "child2.add_child(grandchild2)\n",
    "\n",
    "# Perform DFS traversal to get all parent nodes for every child\n",
    "dfs(root)\n"
   ]
  },
  {
   "cell_type": "code",
   "execution_count": 2,
   "id": "88c44c7a-aafd-40e7-b228-8455056ef601",
   "metadata": {},
   "outputs": [
    {
     "name": "stdout",
     "output_type": "stream",
     "text": [
      "Node A has parents []\n",
      "Node B has parents ['A']\n",
      "Node D has parents ['A', 'B']\n",
      "Node E has parents ['A', 'B']\n",
      "Node C has parents ['A']\n",
      "Node F has parents ['A', 'C']\n"
     ]
    }
   ],
   "source": [
    "def dfs(node, lineage, parent_map):\n",
    "    # Add the current node's lineage (excluding itself) to the parent map\n",
    "    parent_map[node.value] = lineage[:]\n",
    "    \n",
    "    # For each child, continue the DFS, adding the current node to the lineage\n",
    "    for child in node.children:\n",
    "        dfs(child, lineage + [node.value], parent_map)\n",
    "\n",
    "# Example usage\n",
    "parent_map = {}\n",
    "root = Node('A')\n",
    "root.add_child(Node('B'))\n",
    "root.add_child(Node('C'))\n",
    "root.children[0].add_child(Node('D'))\n",
    "root.children[0].add_child(Node('E'))\n",
    "root.children[1].add_child(Node('F'))\n",
    "\n",
    "dfs(root, [], parent_map)\n",
    "\n",
    "for node, parents in parent_map.items():\n",
    "    print(f\"Node {node} has parents {parents}\")\n"
   ]
  },
  {
   "cell_type": "code",
   "execution_count": 10,
   "id": "8e56adb6-98b1-425d-bb68-196b4de2698b",
   "metadata": {},
   "outputs": [
    {
     "name": "stdout",
     "output_type": "stream",
     "text": [
      "Best Value: 60\n",
      "Items to Include: {'D', 'A'}\n"
     ]
    }
   ],
   "source": [
    "class Item:\n",
    "    def __init__(self, id, value, weight, predecessors):\n",
    "        self.id = id\n",
    "        self.value = value\n",
    "        self.weight = weight\n",
    "        self.predecessors = predecessors  # List of item IDs that must be included before this item\n",
    "\n",
    "def can_include(item, included, items_dict):\n",
    "    # Check if all predecessors of 'item' are in the 'included' set\n",
    "    return all(items_dict[pred].id in included for pred in item.predecessors)\n",
    "\n",
    "def knapsack(idx, current_weight, current_value, included, items, W, best_solution, items_dict):\n",
    "    if idx == len(items):\n",
    "        if current_value > best_solution['value']:\n",
    "            best_solution['value'] = current_value\n",
    "            best_solution['items'] = included.copy()\n",
    "        return\n",
    "    \n",
    "    item = items[idx]\n",
    "    # Try to include this item\n",
    "    if item.weight + current_weight <= W and can_include(item, included, items_dict):\n",
    "        included.add(item.id)\n",
    "        knapsack(idx + 1, current_weight + item.weight, current_value + item.value, included, items, W, best_solution, items_dict)\n",
    "        included.remove(item.id)\n",
    "    \n",
    "    # Try not to include this item\n",
    "    knapsack(idx + 1, current_weight, current_value, included, items, W, best_solution, items_dict)\n",
    "\n",
    "def main():\n",
    "    items = [\n",
    "        Item('A', 20, 1, []),\n",
    "        Item('B', 40, 2, ['D']),\n",
    "        Item('C', 60, 2, ['A', 'B']),  # C can only be included if A is included\n",
    "        Item('D', 40, 1, []),\n",
    "        Item('E', 20, 1, ['B']),\n",
    "    ]\n",
    "    W = 5  # Maximum weight capacity of the knapsack\n",
    "    items_dict = {item.id: item for item in items}\n",
    "    best_solution = {'value': 0, 'items': set()}\n",
    "    included = set()\n",
    "\n",
    "    knapsack(0, 0, 0, included, items, W, best_solution, items_dict)\n",
    "    print(\"Best Value:\", best_solution['value'])\n",
    "    print(\"Items to Include:\", best_solution['items'])\n",
    "\n",
    "main()\n"
   ]
  },
  {
   "cell_type": "code",
   "execution_count": null,
   "id": "0f6c1ebf-6ff8-4e0e-9efb-14eede9cc618",
   "metadata": {},
   "outputs": [],
   "source": []
  }
 ],
 "metadata": {
  "kernelspec": {
   "display_name": "Python 3 (ipykernel)",
   "language": "python",
   "name": "python3"
  },
  "language_info": {
   "codemirror_mode": {
    "name": "ipython",
    "version": 3
   },
   "file_extension": ".py",
   "mimetype": "text/x-python",
   "name": "python",
   "nbconvert_exporter": "python",
   "pygments_lexer": "ipython3",
   "version": "3.12.2"
  }
 },
 "nbformat": 4,
 "nbformat_minor": 5
}
