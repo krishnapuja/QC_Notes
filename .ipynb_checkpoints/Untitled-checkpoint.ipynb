{
 "cells": [
  {
   "cell_type": "code",
   "execution_count": 1,
   "id": "9f8a3170-517b-4c37-872c-f3e308a410ba",
   "metadata": {},
   "outputs": [
    {
     "name": "stdout",
     "output_type": "stream",
     "text": [
      "Maximum value achievable is: 28\n"
     ]
    }
   ],
   "source": [
    "def pbkp(weights, values, prerequisites, W):\n",
    "    n = len(weights)  # Number of items\n",
    "    # Initialize DP table with -1 (uncomputed state)\n",
    "    dp = [[-1 for _ in range(W + 1)] for _ in range(n + 1)]\n",
    "    \n",
    "    \n",
    "    def solve(i, w):\n",
    "        # Base cases\n",
    "        if w < 0: return float('-inf')  # Weight becomes negative, not possible\n",
    "        if i == 0 or w == 0: return 0  # No items or no capacity\n",
    "        if dp[i][w] != -1: return dp[i][w]  # Already computed\n",
    "        \n",
    "        not_take = solve(i-1, w)  # Option 1: Not taking item i\n",
    "        take = float('-inf')\n",
    "        if prerequisites[i-1] == -1 or dp[prerequisites[i-1]][w] != -1:  # Check prerequisite\n",
    "            if weights[i-1] <= w:  # Check weight\n",
    "                take = values[i-1] + solve(i-1, w - weights[i-1])  # Option 2: Taking item i\n",
    "        \n",
    "        dp[i][w] = max(take, not_take)  # Store the result\n",
    "        return dp[i][w]\n",
    "    \n",
    "    # Start from the last item and full capacity\n",
    "    return solve(n, W)\n",
    "\n",
    "# Example\n",
    "weights = [3, 4, 2, 1, 5, 1]\n",
    "values = [8, 10, 7, 3, 12, 5]\n",
    "prerequisites = [-1, -1, 0, -1, 3, 3]  # Using index in the list, -1 means no prerequisite\n",
    "W = 10\n",
    "\n",
    "max_value = pbkp(weights, values, prerequisites, W)\n",
    "print(f\"Maximum value achievable is: {max_value}\")\n"
   ]
  },
  {
   "cell_type": "code",
   "execution_count": null,
   "id": "f3a6f212-91d2-4470-bbe0-71c8cdb3819c",
   "metadata": {},
   "outputs": [],
   "source": []
  }
 ],
 "metadata": {
  "kernelspec": {
   "display_name": "Python 3 (ipykernel)",
   "language": "python",
   "name": "python3"
  },
  "language_info": {
   "codemirror_mode": {
    "name": "ipython",
    "version": 3
   },
   "file_extension": ".py",
   "mimetype": "text/x-python",
   "name": "python",
   "nbconvert_exporter": "python",
   "pygments_lexer": "ipython3",
   "version": "3.12.2"
  }
 },
 "nbformat": 4,
 "nbformat_minor": 5
}
